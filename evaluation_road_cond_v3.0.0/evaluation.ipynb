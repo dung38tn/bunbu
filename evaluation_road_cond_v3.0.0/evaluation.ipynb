{
 "cells": [
  {
   "cell_type": "code",
   "execution_count": 42,
   "metadata": {},
   "outputs": [],
   "source": [
    "import pandas as pd\n",
    "import cv2\n",
    "import matplotlib.pyplot as plt\n",
    "import os\n",
    "import math"
   ]
  },
  {
   "cell_type": "code",
   "execution_count": 3,
   "metadata": {},
   "outputs": [],
   "source": [
    "path = '../_Prediction.csv'\n",
    "path_data = '/Users/macone/Documents/3_dataset/ReleaseVer/'"
   ]
  },
  {
   "cell_type": "code",
   "execution_count": 4,
   "metadata": {},
   "outputs": [
    {
     "name": "stdout",
     "output_type": "stream",
     "text": [
      "<class 'pandas.core.frame.DataFrame'>\n",
      "RangeIndex: 5478 entries, 0 to 5477\n",
      "Data columns (total 11 columns):\n",
      " #   Column           Non-Null Count  Dtype  \n",
      "---  ------           --------------  -----  \n",
      " 0   Unnamed: 0       5478 non-null   int64  \n",
      " 1   img              5478 non-null   object \n",
      " 2   cond             5478 non-null   object \n",
      " 3   costs_full_flow  5478 non-null   float64\n",
      " 4   explain_outputs  5478 non-null   object \n",
      " 5   cond_scores      5478 non-null   object \n",
      " 6   road_cond_times  5478 non-null   float64\n",
      " 7   vis_est_preds    5478 non-null   object \n",
      " 8   day_night_preds  5478 non-null   object \n",
      " 9   vis_est_times    5478 non-null   float64\n",
      " 10  normalize_times  5478 non-null   float64\n",
      "dtypes: float64(4), int64(1), object(6)\n",
      "memory usage: 470.9+ KB\n",
      "None\n"
     ]
    }
   ],
   "source": [
    "df = pd.read_csv(path)\n",
    "# print(df.head())\n",
    "# print(df.tail())\n",
    "print(df.info())"
   ]
  },
  {
   "cell_type": "code",
   "execution_count": 5,
   "metadata": {},
   "outputs": [
    {
     "name": "stdout",
     "output_type": "stream",
     "text": [
      "['Unnamed: 0', 'img', 'cond', 'costs_full_flow', 'explain_outputs', 'cond_scores', 'road_cond_times', 'vis_est_preds', 'day_night_preds', 'vis_est_times', 'normalize_times']\n"
     ]
    }
   ],
   "source": [
    "cols = df.columns.values.tolist()\n",
    "print(cols)"
   ]
  },
  {
   "cell_type": "code",
   "execution_count": 74,
   "metadata": {},
   "outputs": [
    {
     "name": "stdout",
     "output_type": "stream",
     "text": [
      "Clear\n",
      "camera name:  G0423_K32\n",
      "folder name:  20220323\n",
      "image name:  20220323205502.jpg\n",
      "\n",
      "camera name:  G1407\n",
      "folder name:  20220326\n",
      "image name:  20220326150031.jpg\n",
      "\n",
      "camera name:  G1407\n",
      "folder name:  20220325\n",
      "image name:  20220325110033.jpg\n",
      "\n",
      "L1\n",
      "camera name:  G4_K1885\n",
      "folder name:  20220326\n",
      "image name:  20220326022007.jpg\n",
      "\n",
      "camera name:  G4_K1885\n",
      "folder name:  20220323\n",
      "image name:  20220323085011.jpg\n",
      "\n",
      "camera name:  G1414\n",
      "folder name:  20220325\n",
      "image name:  20220325200010.jpg\n",
      "\n",
      "L1x\n",
      "camera name:  G1414\n",
      "folder name:  20220323\n",
      "image name:  20220323025010.jpg\n",
      "\n",
      "camera name:  G4757\n",
      "folder name:  20220328\n",
      "image name:  20220328010028(1).jpg\n",
      "\n",
      "camera name:  G4757\n",
      "folder name:  20220328\n",
      "image name:  20220328010028.jpg\n",
      "\n",
      "L2\n",
      "camera name:  G4_K1885\n",
      "folder name:  20220324\n",
      "image name:  20220324095008.jpg\n",
      "\n",
      "camera name:  G1410\n",
      "folder name:  20220326\n",
      "image name:  20220326182035.jpg\n",
      "\n",
      "camera name:  G1414\n",
      "folder name:  20220324\n",
      "image name:  20220324052010.jpg\n",
      "\n",
      "L2x\n",
      "camera name:  G4_K1885\n",
      "folder name:  20220325\n",
      "image name:  20220325202507.jpg\n",
      "\n",
      "camera name:  G4757\n",
      "folder name:  20220325\n",
      "image name:  20220325050014.jpg\n",
      "\n",
      "camera name:  G4757\n",
      "folder name:  20220327\n",
      "image name:  20220327033025.jpg\n",
      "\n",
      "L3\n",
      "camera name:  G1410\n",
      "folder name:  20220328\n",
      "image name:  20220328064027.jpg\n",
      "\n",
      "camera name:  G4_K1885\n",
      "folder name:  20220323\n",
      "image name:  20220323065007.jpg\n",
      "\n",
      "camera name:  G1410\n",
      "folder name:  20220327\n",
      "image name:  20220327171032.jpg\n",
      "\n",
      "L4\n",
      "camera name:  G1410\n",
      "folder name:  20220327\n",
      "image name:  20220327184032.jpg\n",
      "\n",
      "camera name:  G4757\n",
      "folder name:  20220326\n",
      "image name:  20220326041016.jpg\n",
      "\n",
      "camera name:  G4757\n",
      "folder name:  20220324\n",
      "image name:  20220324193018.jpg\n",
      "\n",
      "Reject\n",
      "camera name:  G4_K1885\n",
      "folder name:  20220323\n",
      "image name:  20220323234508.jpg\n",
      "\n",
      "camera name:  G1410\n",
      "folder name:  20220329\n",
      "image name:  20220329002033.jpg\n",
      "\n",
      "camera name:  G1407\n",
      "folder name:  20220329\n",
      "image name:  20220329045039.jpg\n",
      "\n",
      "['Clear', 'L1', 'L1x', 'L2', 'L2x', 'L3', 'L4', 'Reject']\n",
      "[3543, 127, 12, 130, 111, 38, 3, 1514]\n"
     ]
    }
   ],
   "source": [
    "vis_est_preds = ['Clear', 'L1', 'L1x', 'L2', 'L2x', 'L3', 'L4', 'Reject']\n",
    "values = []\n",
    "\n",
    "def plot_images(df_tmp, number_images, name):\n",
    "    full_names = df_tmp['img'].sample(number_images)\n",
    "    for idx, full_name in enumerate(full_names):\n",
    "        \n",
    "        pos = full_name.rfind('_')\n",
    "        camera_name = full_name[:pos]\n",
    "        image_name = full_name[pos+1:]\n",
    "        folder_name = image_name[:8]\n",
    "        print('camera name: ', camera_name)\n",
    "        print('folder name: ', folder_name)\n",
    "        print('image name: ', image_name)\n",
    "        print()\n",
    "        img = cv2.imread(os.path.join(path_data, camera_name, folder_name, image_name))\n",
    "        st = f'{name}_{idx+1}.png'\n",
    "        cv2.imwrite(st, img)\n",
    "        # plt.figure(figsize=(30, 10))\n",
    "        # plt.subplot(number_images, 1, idx+1)\n",
    "        # img = plt.imread(os.path.join(path_data, camera_name, folder_name, image_name))\n",
    "        # print(img.shape)\n",
    "        # plt.imshow(img)\n",
    "        # plt.axis('off')\n",
    "\n",
    "for name in vis_est_preds:\n",
    "    df_filter = df[df['vis_est_preds'] == name]\n",
    "    print(name)\n",
    "    plot_images(df_filter, 3, name)\n",
    "    # print('filter by: ', name)\n",
    "    # df = df[df['vis_est_preds']=='Reject']\n",
    "    # print(df_reject.tail())\n",
    "    # df_reject_day = df_reject[df_reject['day_night_preds'] == 'night']\n",
    "    # print(df_reject)\n",
    "    # print(len(df_filter))\n",
    "    values.append(len(df_filter))\n",
    "print(vis_est_preds)\n",
    "print(values)\n",
    "\n"
   ]
  },
  {
   "cell_type": "code",
   "execution_count": 64,
   "metadata": {},
   "outputs": [
    {
     "data": {
      "image/png": "[encoded data removed]",
      "text/plain": [
       "<Figure size 720x360 with 1 Axes>"
      ]
     },
     "metadata": {
      "needs_background": "light"
     },
     "output_type": "display_data"
    }
   ],
   "source": [
    "plt.figure(figsize=(10, 5))\n",
    "plt.bar(vis_est_preds, values, color='maroon', width=0.4)\n",
    "plt.grid(color='b', linestyle='--')\n",
    "plt.xlabel('Level of visibility estimation')\n",
    "plt.ylabel('Number of images')\n",
    "plt.title('Visibility estimation')\n",
    "plt.show()"
   ]
  },
  {
   "cell_type": "code",
   "execution_count": 63,
   "metadata": {},
   "outputs": [],
   "source": [
    "\n",
    "\n",
    "        \n",
    "\n",
    "# full_names = df['img'].sample(3)\n",
    "# idx = 0\n",
    "# for full_name in full_names:\n",
    "#     # print(type(image_name))\n",
    "#     # print(image_name)\n",
    "#     pos = full_name.rfind('_')\n",
    "#     camera_name = full_name[:pos]\n",
    "#     image_name = full_name[pos+1:]\n",
    "#     folder_name = image_name[:8]\n",
    "#     print('camera name: ', camera_name)\n",
    "#     print('folder name: ', folder_name)\n",
    "#     print('image name: ', image_name)\n",
    "#     idx += 1\n",
    "#     plt.figure(figsize=(30, 10))\n",
    "#     plt.subplot(3, 1, idx)\n",
    "#     img = plt.imread(os.path.join(path_data, camera_name, folder_name, image_name))\n",
    "#     print(img.shape)\n",
    "#     plt.imshow(img)\n",
    "#     plt.axis('off')\n",
    "#     print()\n",
    "    "
   ]
  },
  {
   "cell_type": "code",
   "execution_count": null,
   "metadata": {},
   "outputs": [],
   "source": []
  }
 ],
 "metadata": {
  "interpreter": {
   "hash": "c8e0afb4f6fc87737680aa412f0e2767730759f4ddd28d1333b69fee1f651cbf"
  },
  "kernelspec": {
   "display_name": "Python 3.8.5 64-bit ('tensorflow2')",
   "language": "python",
   "name": "python3"
  },
  "language_info": {
   "codemirror_mode": {
    "name": "ipython",
    "version": 3
   },
   "file_extension": ".py",
   "mimetype": "text/x-python",
   "name": "python",
   "nbconvert_exporter": "python",
   "pygments_lexer": "ipython3",
   "version": "3.8.5"
  },
  "orig_nbformat": 4
 },
 "nbformat": 4,
 "nbformat_minor": 2
}
